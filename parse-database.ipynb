{
 "cells": [
  {
   "cell_type": "code",
   "execution_count": 2,
   "metadata": {},
   "outputs": [],
   "source": [
    "import pandas as pd"
   ]
  },
  {
   "cell_type": "code",
   "execution_count": 138,
   "metadata": {},
   "outputs": [],
   "source": [
    "db = pd.read_csv('GlobalAirportDatabase.txt', sep=':', names=['icao', 'iata', 'name',\n",
    "                                                         'city', 'country', 'lat_deg',\n",
    "                                                         'lat_min', 'lat_sec', 'lat_dir',\n",
    "                                                         'lon_deg', 'lon_min', 'lon_sec',\n",
    "                                                         'lon_dir', 'alt', 'lat_dec',\n",
    "                                                         'lon_dec'])\n",
    "\n",
    "db.loc[-1] = ['RKSI', 'ICN', 'INCHEON', 'SEOUL', 'KOREA', 37, 27, 48, 'N', 126, 26, 24, 'E', 7, 37.46333, -126.44000]\n",
    "db.loc[-2] = ['KCHO', 'CHO', 'CHARLOTTESVILLE-ALBEMARLE AIRPORT', 'CHARLOTESVILLE', 'USA', 38, 8, 19, 'N', 78, 27, 10, 'W', 195, 38.139, -78.453]\n",
    "db.loc[-3] = ['KGSP', 'GSP', 'GREENVILLE-SPARTANBURG INTERNATIONAL AIRPORT', 'GREENVILLE', 'USA', 34, 53, 44, 'N', 82, 13, 8, 'W', 294, 0, 0]\n",
    "\n",
    "db['lat_dec'] = db['lat_deg'] + (1/60) * db['lat_min'] + (1/3600) * db['lat_sec']\n",
    "db['lon_dec'] = db['lon_deg'] + (1/60) * db['lon_min'] + (1/3600) * db['lon_sec']\n",
    "\n",
    "db.loc[db['lat_dir'] == 'S', 'lat_dec'] = -1 * db['lat_dec']\n",
    "db.loc[db['lon_dir'] == 'W', 'lon_dec'] = -1 * db['lon_dec']\n",
    "\n",
    "\n",
    "db['name'] = db['name'].str.title()\n",
    "db['city'] = db['city'].str.title()\n",
    "db['country'] = db['country'].str.title()\n",
    "\n",
    "db = db.sort_values('icao').reset_index().drop(columns='index', axis=1)"
   ]
  },
  {
   "cell_type": "code",
   "execution_count": 139,
   "metadata": {},
   "outputs": [],
   "source": [
    "visited = ['KRIC', 'KHOU', 'KIAH', 'KIAD', 'EIDW', 'EGLL', 'EGSS', 'EDDK', 'RJTT', 'RJAA', 'ZBAA',\n",
    "           'ZGGG', 'ZSSS', 'RKSS', 'RKSI', 'VVNB', 'KLAX', 'PANC', 'KSEA', 'KSLC', 'KDEN', 'KDRO',\n",
    "           'KPHX', 'KCHO', 'KEWR', 'KPHL', 'KLGA', 'KJFK', 'KDTW', 'KDFW', 'KORD', 'KMCO', 'KCLT',\n",
    "           'KATL', 'KLAS', 'KGSP', 'KBOS', 'KSTL', 'MMMX', 'EHAM', 'KTUS', 'KTUL', 'KSFO', 'KIND',\n",
    "           'KDCA', 'KORF', 'KPHF']"
   ]
  },
  {
   "cell_type": "code",
   "execution_count": 146,
   "metadata": {},
   "outputs": [],
   "source": [
    "db[db['icao'].isin(visited)][['iata', 'name', 'city', 'country', 'lat_dec', 'lon_dec']].to_json(index=False, orient='records', path_or_buf='visited_airports.json')"
   ]
  },
  {
   "cell_type": "code",
   "execution_count": null,
   "metadata": {},
   "outputs": [],
   "source": []
  }
 ],
 "metadata": {
  "kernelspec": {
   "display_name": "air-travel",
   "language": "python",
   "name": "python3"
  },
  "language_info": {
   "codemirror_mode": {
    "name": "ipython",
    "version": 3
   },
   "file_extension": ".py",
   "mimetype": "text/x-python",
   "name": "python",
   "nbconvert_exporter": "python",
   "pygments_lexer": "ipython3",
   "version": "3.12.3"
  }
 },
 "nbformat": 4,
 "nbformat_minor": 2
}
